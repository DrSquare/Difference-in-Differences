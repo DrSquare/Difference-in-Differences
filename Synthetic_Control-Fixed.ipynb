{
  "cells": [
    {
      "cell_type": "markdown",
      "metadata": {
        "id": "Z35_aLlWy_Fv"
      },
      "source": [
        "## Welcome\n",
        "\n",
        "This is material for the **Synthetic Control** chapter in Scott Cunningham's book, [Causal Inference: The Mixtape.](https://mixtape.scunning.com/)\n",
        "\n"
      ]
    },
    {
      "cell_type": "code",
      "execution_count": 14,
      "metadata": {
        "colab": {
          "base_uri": "https://localhost:8080/",
          "height": 522
        },
        "id": "0Z5DaB5phNzQ",
        "outputId": "76c59126-4d9c-4f14-e0ef-bc2412674ac4"
      },
      "outputs": [
        {
          "output_type": "stream",
          "name": "stdout",
          "text": [
            "Using pip 22.0.4 from /usr/local/lib/python3.9/dist-packages/pip (python 3.9)\n",
            "Looking in indexes: https://pypi.org/simple, https://us-python.pkg.dev/colab-wheels/public/simple/\n",
            "Collecting rpy2==3.4.2\n",
            "  Using cached rpy2-3.4.2-cp39-cp39-linux_x86_64.whl\n",
            "Collecting tzlocal\n",
            "  Using cached tzlocal-4.3-py3-none-any.whl (20 kB)\n",
            "Collecting cffi>=1.10.0\n",
            "  Using cached cffi-1.15.1-cp39-cp39-manylinux_2_17_x86_64.manylinux2014_x86_64.whl (441 kB)\n",
            "Collecting pytz\n",
            "  Using cached pytz-2023.2-py2.py3-none-any.whl (502 kB)\n",
            "Collecting jinja2\n",
            "  Using cached Jinja2-3.1.2-py3-none-any.whl (133 kB)\n",
            "Collecting pycparser\n",
            "  Using cached pycparser-2.21-py2.py3-none-any.whl (118 kB)\n",
            "Collecting MarkupSafe>=2.0\n",
            "  Using cached MarkupSafe-2.1.2-cp39-cp39-manylinux_2_17_x86_64.manylinux2014_x86_64.whl (25 kB)\n",
            "Collecting pytz-deprecation-shim\n",
            "  Using cached pytz_deprecation_shim-0.1.0.post0-py2.py3-none-any.whl (15 kB)\n",
            "Collecting tzdata\n",
            "  Using cached tzdata-2023.2-py2.py3-none-any.whl (342 kB)\n",
            "Installing collected packages: pytz, tzdata, pycparser, MarkupSafe, pytz-deprecation-shim, jinja2, cffi, tzlocal, rpy2\n",
            "Successfully installed MarkupSafe-2.1.2 cffi-1.15.1 jinja2-3.1.2 pycparser-2.21 pytz-2023.2 pytz-deprecation-shim-0.1.0.post0 rpy2-3.5.5 tzdata-2023.2 tzlocal-4.3\n"
          ]
        },
        {
          "output_type": "display_data",
          "data": {
            "application/vnd.colab-display-data+json": {
              "pip_warning": {
                "packages": [
                  "_cffi_backend",
                  "_rinterface_cffi_api",
                  "cffi",
                  "jinja2",
                  "markupsafe",
                  "pytz",
                  "pytz_deprecation_shim",
                  "rpy2",
                  "tzlocal"
                ]
              }
            }
          },
          "metadata": {}
        }
      ],
      "source": [
        "!pip install -Iv rpy2==3.4.2"
      ]
    },
    {
      "cell_type": "code",
      "source": [
        "%%capture\n",
        "# This cell installs some utility packages. We utilize R via rpy2.\n",
        "\n",
        "from rpy2.robjects.packages import importr\n",
        "from rpy2.robjects.conversion import localconverter\n",
        "utils = importr('utils')\n",
        "utils.install_packages('Synth')"
      ],
      "metadata": {
        "colab": {
          "base_uri": "https://localhost:8080/"
        },
        "id": "ql_F7fksjh5y",
        "outputId": "b5ae0375-bad7-40f2-b433-65b23c0e1da4"
      },
      "execution_count": 15,
      "outputs": [
        {
          "output_type": "stream",
          "name": "stderr",
          "text": [
            "WARNING:rpy2.rinterface_lib.callbacks:R[write to console]: Installing package into ‘/usr/local/lib/R/site-library’\n",
            "(as ‘lib’ is unspecified)\n",
            "\n",
            "WARNING:rpy2.rinterface_lib.callbacks:R[write to console]: trying URL 'https://cran.rstudio.com/src/contrib/Synth_1.1-6.tar.gz'\n",
            "\n",
            "WARNING:rpy2.rinterface_lib.callbacks:R[write to console]: Content type 'application/x-gzip'\n",
            "WARNING:rpy2.rinterface_lib.callbacks:R[write to console]:  length 75997 bytes (74 KB)\n",
            "\n",
            "WARNING:rpy2.rinterface_lib.callbacks:R[write to console]: =\n",
            "WARNING:rpy2.rinterface_lib.callbacks:R[write to console]: =\n",
            "WARNING:rpy2.rinterface_lib.callbacks:R[write to console]: =\n",
            "WARNING:rpy2.rinterface_lib.callbacks:R[write to console]: =\n",
            "WARNING:rpy2.rinterface_lib.callbacks:R[write to console]: =\n",
            "WARNING:rpy2.rinterface_lib.callbacks:R[write to console]: =\n",
            "WARNING:rpy2.rinterface_lib.callbacks:R[write to console]: =\n",
            "WARNING:rpy2.rinterface_lib.callbacks:R[write to console]: =\n",
            "WARNING:rpy2.rinterface_lib.callbacks:R[write to console]: =\n",
            "WARNING:rpy2.rinterface_lib.callbacks:R[write to console]: =\n",
            "WARNING:rpy2.rinterface_lib.callbacks:R[write to console]: =\n",
            "WARNING:rpy2.rinterface_lib.callbacks:R[write to console]: =\n",
            "WARNING:rpy2.rinterface_lib.callbacks:R[write to console]: =\n",
            "WARNING:rpy2.rinterface_lib.callbacks:R[write to console]: =\n",
            "WARNING:rpy2.rinterface_lib.callbacks:R[write to console]: =\n",
            "WARNING:rpy2.rinterface_lib.callbacks:R[write to console]: =\n",
            "WARNING:rpy2.rinterface_lib.callbacks:R[write to console]: =\n",
            "WARNING:rpy2.rinterface_lib.callbacks:R[write to console]: =\n",
            "WARNING:rpy2.rinterface_lib.callbacks:R[write to console]: =\n",
            "WARNING:rpy2.rinterface_lib.callbacks:R[write to console]: =\n",
            "WARNING:rpy2.rinterface_lib.callbacks:R[write to console]: =\n",
            "WARNING:rpy2.rinterface_lib.callbacks:R[write to console]: =\n",
            "WARNING:rpy2.rinterface_lib.callbacks:R[write to console]: =\n",
            "WARNING:rpy2.rinterface_lib.callbacks:R[write to console]: =\n",
            "WARNING:rpy2.rinterface_lib.callbacks:R[write to console]: =\n",
            "WARNING:rpy2.rinterface_lib.callbacks:R[write to console]: =\n",
            "WARNING:rpy2.rinterface_lib.callbacks:R[write to console]: =\n",
            "WARNING:rpy2.rinterface_lib.callbacks:R[write to console]: =\n",
            "WARNING:rpy2.rinterface_lib.callbacks:R[write to console]: =\n",
            "WARNING:rpy2.rinterface_lib.callbacks:R[write to console]: =\n",
            "WARNING:rpy2.rinterface_lib.callbacks:R[write to console]: =\n",
            "WARNING:rpy2.rinterface_lib.callbacks:R[write to console]: =\n",
            "WARNING:rpy2.rinterface_lib.callbacks:R[write to console]: =\n",
            "WARNING:rpy2.rinterface_lib.callbacks:R[write to console]: =\n",
            "WARNING:rpy2.rinterface_lib.callbacks:R[write to console]: =\n",
            "WARNING:rpy2.rinterface_lib.callbacks:R[write to console]: =\n",
            "WARNING:rpy2.rinterface_lib.callbacks:R[write to console]: =\n",
            "WARNING:rpy2.rinterface_lib.callbacks:R[write to console]: =\n",
            "WARNING:rpy2.rinterface_lib.callbacks:R[write to console]: =\n",
            "WARNING:rpy2.rinterface_lib.callbacks:R[write to console]: =\n",
            "WARNING:rpy2.rinterface_lib.callbacks:R[write to console]: =\n",
            "WARNING:rpy2.rinterface_lib.callbacks:R[write to console]: =\n",
            "WARNING:rpy2.rinterface_lib.callbacks:R[write to console]: =\n",
            "WARNING:rpy2.rinterface_lib.callbacks:R[write to console]: =\n",
            "WARNING:rpy2.rinterface_lib.callbacks:R[write to console]: =\n",
            "WARNING:rpy2.rinterface_lib.callbacks:R[write to console]: =\n",
            "WARNING:rpy2.rinterface_lib.callbacks:R[write to console]: =\n",
            "WARNING:rpy2.rinterface_lib.callbacks:R[write to console]: =\n",
            "WARNING:rpy2.rinterface_lib.callbacks:R[write to console]: =\n",
            "WARNING:rpy2.rinterface_lib.callbacks:R[write to console]: =\n",
            "WARNING:rpy2.rinterface_lib.callbacks:R[write to console]: \n",
            "\n",
            "WARNING:rpy2.rinterface_lib.callbacks:R[write to console]: downloaded 74 KB\n",
            "\n",
            "\n",
            "WARNING:rpy2.rinterface_lib.callbacks:R[write to console]: \n",
            "\n",
            "WARNING:rpy2.rinterface_lib.callbacks:R[write to console]: \n",
            "WARNING:rpy2.rinterface_lib.callbacks:R[write to console]: The downloaded source packages are in\n",
            "\t‘/tmp/RtmpTk3S1U/downloaded_packages’\n",
            "WARNING:rpy2.rinterface_lib.callbacks:R[write to console]: \n",
            "WARNING:rpy2.rinterface_lib.callbacks:R[write to console]: \n",
            "\n"
          ]
        }
      ]
    },
    {
      "cell_type": "code",
      "execution_count": 17,
      "metadata": {
        "id": "RhI-LpU2y_Fy"
      },
      "outputs": [],
      "source": [
        "import numpy as np\n",
        "import pandas as pd\n",
        "import statsmodels.api as sm\n",
        "import statsmodels.formula.api as smf\n",
        "\n",
        "from rpy2 import robjects\n",
        "from rpy2.robjects import pandas2ri\n",
        "pandas2ri.activate()\n",
        "from rpy2.robjects.vectors import IntVector\n",
        "\n",
        "import plotnine as p\n",
        "import matplotlib.pyplot as plt\n",
        "\n",
        "%matplotlib inline\n",
        "\n"
      ]
    },
    {
      "cell_type": "code",
      "execution_count": 18,
      "metadata": {
        "id": "3NandIHWy_Fz"
      },
      "outputs": [],
      "source": [
        "import ssl\n",
        "ssl._create_default_https_context = ssl._create_unverified_context\n",
        "\n",
        "def read_data(file):\n",
        "    full_path = \"https://github.com/scunning1975/mixtape/raw/master/\" + file\n",
        "    \n",
        "    return pd.read_stata(full_path)"
      ]
    },
    {
      "cell_type": "markdown",
      "metadata": {
        "id": "r-anKuMjy_Fz"
      },
      "source": [
        "## Prison Construction and Black Male Incarceration\n"
      ]
    },
    {
      "cell_type": "code",
      "execution_count": 19,
      "metadata": {
        "id": "NAWX6mUiy_Fz"
      },
      "outputs": [],
      "source": [
        "texas = read_data(\"texas.dta\")"
      ]
    },
    {
      "cell_type": "code",
      "execution_count": 20,
      "metadata": {
        "id": "VvGwUOl9y_F0"
      },
      "outputs": [],
      "source": [
        "Synth = importr('Synth')"
      ]
    },
    {
      "cell_type": "code",
      "execution_count": 21,
      "metadata": {
        "id": "lFkIg5WQy_F0",
        "colab": {
          "base_uri": "https://localhost:8080/"
        },
        "outputId": "4a6bd537-7c38-478d-a676-75032ff63bd2"
      },
      "outputs": [
        {
          "output_type": "stream",
          "name": "stdout",
          "text": [
            "\n",
            "X1, X0, Z1, Z0 all come directly from dataprep object.\n",
            "\n",
            "\n",
            "**************** \n",
            " searching for synthetic control unit  \n",
            " \n",
            "\n",
            "**************** \n",
            "**************** \n",
            "**************** \n",
            "\n",
            "MSPE (LOSS V): 2019839 \n",
            "\n",
            "solution.v:\n",
            " 0.06843543 0.02849309 0.8949852 3.30278e-05 0.000122374 0.007929645 1.2876e-06 \n",
            "\n",
            "solution.w:\n",
            " 2.1036e-06 1.638e-07 1.2605e-06 8.781e-06 0.3420653 3.717e-07 1.469e-07 1.663e-07 3.97e-08 0.2963684 2.978e-07 1.866e-07 6.0836e-06 6.135e-07 1.2125e-06 9.987e-07 5.646e-07 5.5707e-06 0.3613969 1.0905e-06 2.03e-07 2.069e-07 3.0885e-06 3.587e-07 4.5e-09 9.953e-07 4.9594e-06 6.338e-07 2.669e-07 2.468e-07 2.597e-07 4.057e-06 3.443e-07 7.378e-07 3.7061e-06 6.8669e-06 2.7571e-06 7.46e-07 1.136e-06 3.282e-07 2.3e-09 2.8444e-06 8.1658e-05 7.937e-07 3.366e-07 3.824e-07 2.04033e-05 7.517e-07 7.518e-07 \n",
            "\n"
          ]
        }
      ],
      "source": [
        "control_units = [1, 2, 4, 5, 6] +\\\n",
        "    list(range(8, 14)) + list(range(15,43)) +\\\n",
        "    list(range(44, 47)) + [49, 50, 51, 53,54,55,56]\n",
        "\n",
        "robjects.globalenv['texas'] = texas\n",
        "\n",
        "predictors = robjects.vectors.StrVector(['poverty', 'income'])\n",
        "sp = robjects.vectors.ListVector({'1': ['bmprison', IntVector([1988, 1990, 1991, 1992]), 'mean'], \n",
        "                                  '2': ['alcohol', 1990, 'mean'], \n",
        "                                  '3': ['aidscapita', IntVector([1990, 1991]), 'mean'], \n",
        "                                  '4': ['black', IntVector([1990, 1991, 1992]), 'mean'], \n",
        "                                  '5': ['perc1519', 1990, 'mean']})\n",
        "\n",
        "dataprep_out = Synth.dataprep(texas, \n",
        "    predictors = predictors,\n",
        "    predictors_op=\"mean\",\n",
        "    time_predictors_prior=np.arange(1985, 1994),\n",
        "    special_predictors=sp,\n",
        "    dependent='bmprison',\n",
        "    unit_variable='statefip',\n",
        "    unit_names_variable='state',\n",
        "    time_variable='year',\n",
        "    treatment_identifier=48,\n",
        "    controls_identifier=control_units,\n",
        "    time_optimize_ssr=np.arange(1985, 1994),\n",
        "    time_plot=np.arange(1985, 2001))\n",
        "\n",
        "synth_out = Synth.synth(data_prep_obj = dataprep_out)"
      ]
    },
    {
      "cell_type": "code",
      "execution_count": 22,
      "metadata": {
        "id": "QsvAkAVey_F1",
        "colab": {
          "base_uri": "https://localhost:8080/",
          "height": 206
        },
        "outputId": "1290f377-8a6e-4a39-f2aa-aab12c07aa48"
      },
      "outputs": [
        {
          "output_type": "execute_result",
          "data": {
            "text/plain": [
              "     ct_weights  statefip\n",
              "0  2.103617e-06         1\n",
              "1  1.638053e-07         2\n",
              "2  1.260496e-06         4\n",
              "3  8.781002e-06         5\n",
              "4  3.420653e-01         6"
            ],
            "text/html": [
              "\n",
              "  <div id=\"df-7464b182-7381-4ff3-94fa-c698a9fabf28\">\n",
              "    <div class=\"colab-df-container\">\n",
              "      <div>\n",
              "<style scoped>\n",
              "    .dataframe tbody tr th:only-of-type {\n",
              "        vertical-align: middle;\n",
              "    }\n",
              "\n",
              "    .dataframe tbody tr th {\n",
              "        vertical-align: top;\n",
              "    }\n",
              "\n",
              "    .dataframe thead th {\n",
              "        text-align: right;\n",
              "    }\n",
              "</style>\n",
              "<table border=\"1\" class=\"dataframe\">\n",
              "  <thead>\n",
              "    <tr style=\"text-align: right;\">\n",
              "      <th></th>\n",
              "      <th>ct_weights</th>\n",
              "      <th>statefip</th>\n",
              "    </tr>\n",
              "  </thead>\n",
              "  <tbody>\n",
              "    <tr>\n",
              "      <th>0</th>\n",
              "      <td>2.103617e-06</td>\n",
              "      <td>1</td>\n",
              "    </tr>\n",
              "    <tr>\n",
              "      <th>1</th>\n",
              "      <td>1.638053e-07</td>\n",
              "      <td>2</td>\n",
              "    </tr>\n",
              "    <tr>\n",
              "      <th>2</th>\n",
              "      <td>1.260496e-06</td>\n",
              "      <td>4</td>\n",
              "    </tr>\n",
              "    <tr>\n",
              "      <th>3</th>\n",
              "      <td>8.781002e-06</td>\n",
              "      <td>5</td>\n",
              "    </tr>\n",
              "    <tr>\n",
              "      <th>4</th>\n",
              "      <td>3.420653e-01</td>\n",
              "      <td>6</td>\n",
              "    </tr>\n",
              "  </tbody>\n",
              "</table>\n",
              "</div>\n",
              "      <button class=\"colab-df-convert\" onclick=\"convertToInteractive('df-7464b182-7381-4ff3-94fa-c698a9fabf28')\"\n",
              "              title=\"Convert this dataframe to an interactive table.\"\n",
              "              style=\"display:none;\">\n",
              "        \n",
              "  <svg xmlns=\"http://www.w3.org/2000/svg\" height=\"24px\"viewBox=\"0 0 24 24\"\n",
              "       width=\"24px\">\n",
              "    <path d=\"M0 0h24v24H0V0z\" fill=\"none\"/>\n",
              "    <path d=\"M18.56 5.44l.94 2.06.94-2.06 2.06-.94-2.06-.94-.94-2.06-.94 2.06-2.06.94zm-11 1L8.5 8.5l.94-2.06 2.06-.94-2.06-.94L8.5 2.5l-.94 2.06-2.06.94zm10 10l.94 2.06.94-2.06 2.06-.94-2.06-.94-.94-2.06-.94 2.06-2.06.94z\"/><path d=\"M17.41 7.96l-1.37-1.37c-.4-.4-.92-.59-1.43-.59-.52 0-1.04.2-1.43.59L10.3 9.45l-7.72 7.72c-.78.78-.78 2.05 0 2.83L4 21.41c.39.39.9.59 1.41.59.51 0 1.02-.2 1.41-.59l7.78-7.78 2.81-2.81c.8-.78.8-2.07 0-2.86zM5.41 20L4 18.59l7.72-7.72 1.47 1.35L5.41 20z\"/>\n",
              "  </svg>\n",
              "      </button>\n",
              "      \n",
              "  <style>\n",
              "    .colab-df-container {\n",
              "      display:flex;\n",
              "      flex-wrap:wrap;\n",
              "      gap: 12px;\n",
              "    }\n",
              "\n",
              "    .colab-df-convert {\n",
              "      background-color: #E8F0FE;\n",
              "      border: none;\n",
              "      border-radius: 50%;\n",
              "      cursor: pointer;\n",
              "      display: none;\n",
              "      fill: #1967D2;\n",
              "      height: 32px;\n",
              "      padding: 0 0 0 0;\n",
              "      width: 32px;\n",
              "    }\n",
              "\n",
              "    .colab-df-convert:hover {\n",
              "      background-color: #E2EBFA;\n",
              "      box-shadow: 0px 1px 2px rgba(60, 64, 67, 0.3), 0px 1px 3px 1px rgba(60, 64, 67, 0.15);\n",
              "      fill: #174EA6;\n",
              "    }\n",
              "\n",
              "    [theme=dark] .colab-df-convert {\n",
              "      background-color: #3B4455;\n",
              "      fill: #D2E3FC;\n",
              "    }\n",
              "\n",
              "    [theme=dark] .colab-df-convert:hover {\n",
              "      background-color: #434B5C;\n",
              "      box-shadow: 0px 1px 3px 1px rgba(0, 0, 0, 0.15);\n",
              "      filter: drop-shadow(0px 1px 2px rgba(0, 0, 0, 0.3));\n",
              "      fill: #FFFFFF;\n",
              "    }\n",
              "  </style>\n",
              "\n",
              "      <script>\n",
              "        const buttonEl =\n",
              "          document.querySelector('#df-7464b182-7381-4ff3-94fa-c698a9fabf28 button.colab-df-convert');\n",
              "        buttonEl.style.display =\n",
              "          google.colab.kernel.accessAllowed ? 'block' : 'none';\n",
              "\n",
              "        async function convertToInteractive(key) {\n",
              "          const element = document.querySelector('#df-7464b182-7381-4ff3-94fa-c698a9fabf28');\n",
              "          const dataTable =\n",
              "            await google.colab.kernel.invokeFunction('convertToInteractive',\n",
              "                                                     [key], {});\n",
              "          if (!dataTable) return;\n",
              "\n",
              "          const docLinkHtml = 'Like what you see? Visit the ' +\n",
              "            '<a target=\"_blank\" href=https://colab.research.google.com/notebooks/data_table.ipynb>data table notebook</a>'\n",
              "            + ' to learn more about interactive tables.';\n",
              "          element.innerHTML = '';\n",
              "          dataTable['output_type'] = 'display_data';\n",
              "          await google.colab.output.renderOutput(dataTable, element);\n",
              "          const docLink = document.createElement('div');\n",
              "          docLink.innerHTML = docLinkHtml;\n",
              "          element.appendChild(docLink);\n",
              "        }\n",
              "      </script>\n",
              "    </div>\n",
              "  </div>\n",
              "  "
            ]
          },
          "metadata": {},
          "execution_count": 22
        }
      ],
      "source": [
        "weights = synth_out.rx['solution.w'][0]\n",
        "ct_weights = pd.DataFrame({'ct_weights':weights.flatten(), 'statefip':control_units})\n",
        "ct_weights.head()"
      ]
    },
    {
      "cell_type": "code",
      "execution_count": 23,
      "metadata": {
        "id": "bYTZBE1Dy_F1"
      },
      "outputs": [],
      "source": [
        "texas = pd.merge(ct_weights, texas, how='right', on='statefip')"
      ]
    },
    {
      "cell_type": "code",
      "execution_count": 24,
      "metadata": {
        "id": "Wdm6AMX-y_F2",
        "colab": {
          "base_uri": "https://localhost:8080/",
          "height": 295
        },
        "outputId": "ad49616a-a289-4c4d-b57f-28ac0474cffc"
      },
      "outputs": [
        {
          "output_type": "display_data",
          "data": {
            "text/plain": [
              "<Figure size 432x288 with 1 Axes>"
            ],
            "image/png": "[encoded data removed]"
          },
          "metadata": {
            "needs_background": "light"
          }
        }
      ],
      "source": [
        "texas = texas.sort_values('year')\n",
        "ct = texas.groupby('year').apply(lambda x : np.sum(x['ct_weights']*x['bmprison']))\n",
        "treated = texas[texas.statefip==48]['bmprison'].values\n",
        "years = texas.year.unique()\n",
        "\n",
        "\n",
        "plt.plot(years, ct, linestyle='--', color='black', label='control')\n",
        "plt.plot(years, treated, linestyle='-', color='black', label='treated')\n",
        "plt.legend()\n",
        "plt.ylabel('bmprison')\n",
        "plt.xlabel('Time')\n",
        "plt.title('Synthetic Control Performance')\n",
        "plt.axvline(1993, linestyle = 'dashed', color = 'black')\n",
        "plt.show()"
      ]
    },
    {
      "cell_type": "code",
      "execution_count": 25,
      "metadata": {
        "id": "2HFfnfJ0y_F2",
        "colab": {
          "base_uri": "https://localhost:8080/",
          "height": 295
        },
        "outputId": "d0b023d2-86cf-45a7-b8da-eb68056bb2d7"
      },
      "outputs": [
        {
          "output_type": "display_data",
          "data": {
            "text/plain": [
              "<Figure size 432x288 with 1 Axes>"
            ],
            "image/png": "[encoded data removed]"
          },
          "metadata": {
            "needs_background": "light"
          }
        }
      ],
      "source": [
        "ct_diff = treated - ct\n",
        "\n",
        "plt.plot(years, np.zeros(len(years)), linestyle='--', color='black', label='control')\n",
        "plt.plot(years, ct_diff, linestyle='-', color='black', label='treated')\n",
        "plt.legend()\n",
        "plt.ylabel('bmprison')\n",
        "plt.xlabel('Time')\n",
        "plt.title('Gaps: Treated - Synthetic')\n",
        "plt.axvline(1993, linestyle = 'dashed', color = 'black')\n",
        "plt.show()"
      ]
    },
    {
      "cell_type": "markdown",
      "metadata": {
        "id": "OFhNIRSay_F2"
      },
      "source": [
        "\n",
        "#### Questions\n",
        "- In your own words, what do you think the identifying assumptions are for synthetic control to be consistent? \n",
        "- What role, if any, does parallel trends play in synthetic control?\n",
        "- Who is the unit with the largest ratio of post to pre RMSPE?  \n",
        "- Compare the unit with the largest post to pre RMSPE estimated effect to the Texas effect.  How do the weights compare?  How do the size of the effects compare?  How do the ``signs`` of the effects compare?\n",
        "- Can you improve on my fit by experimenting with different combinations? Do so and report your analysis.\n",
        "- Report results from a variety of different specifications.  How robust does the prison effect appear to be?\n",
        "\n"
      ]
    }
  ],
  "metadata": {
    "colab": {
      "name": "Synthetic_Control.ipynb",
      "provenance": []
    },
    "kernelspec": {
      "display_name": "Python 3.8.5 64-bit",
      "metadata": {
        "interpreter": {
          "hash": "aee8b7b246df8f9039afb4144a1f6fd8d2ca17a180786b69acc140d282b71a49"
        }
      },
      "name": "python3"
    },
    "language_info": {
      "codemirror_mode": {
        "name": "ipython",
        "version": 3
      },
      "file_extension": ".py",
      "mimetype": "text/x-python",
      "name": "python",
      "nbconvert_exporter": "python",
      "pygments_lexer": "ipython3",
      "version": "3.9.7"
    }
  },
  "nbformat": 4,
  "nbformat_minor": 0
}